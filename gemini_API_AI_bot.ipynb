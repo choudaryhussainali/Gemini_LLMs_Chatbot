{
  "nbformat": 4,
  "nbformat_minor": 0,
  "metadata": {
    "colab": {
      "provenance": [],
      "authorship_tag": "ABX9TyMNXrUh+Agv8f5F8pbUTHEh",
      "include_colab_link": true
    },
    "kernelspec": {
      "name": "python3",
      "display_name": "Python 3"
    },
    "language_info": {
      "name": "python"
    }
  },
  "cells": [
    {
      "cell_type": "markdown",
      "metadata": {
        "id": "view-in-github",
        "colab_type": "text"
      },
      "source": [
        "<a href=\"https://colab.research.google.com/github/choudaryhussainali/Gemini_LLMs_Chatbot/blob/main/gemini_API_AI_bot.ipynb\" target=\"_parent\"><img src=\"https://colab.research.google.com/assets/colab-badge.svg\" alt=\"Open In Colab\"/></a>"
      ]
    },
    {
      "cell_type": "code",
      "execution_count": null,
      "metadata": {
        "id": "izRD6LlvG8ZP"
      },
      "outputs": [],
      "source": [
        "pip install google-generativeai"
      ]
    },
    {
      "cell_type": "code",
      "source": [
        "import google.generativeai as genai\n",
        "from google.colab import userdata"
      ],
      "metadata": {
        "id": "ohJc3MidIz4I"
      },
      "execution_count": null,
      "outputs": []
    },
    {
      "cell_type": "code",
      "source": [
        "gemini_api_key = userdata.get(\"Gemini_chatbot\")\n",
        "\n",
        "genai.configure(api_key = gemini_api_key)"
      ],
      "metadata": {
        "id": "gvlIakpSJGEj"
      },
      "execution_count": null,
      "outputs": []
    },
    {
      "cell_type": "code",
      "source": [
        "for i in genai.list_models():\n",
        "  if 'generateContent' in i.supported_generation_methods:\n",
        "    print(f'Model Name : {i.name}')"
      ],
      "metadata": {
        "colab": {
          "base_uri": "https://localhost:8080/",
          "height": 694
        },
        "id": "7o03-kddKR7P",
        "outputId": "ff4c1ca6-74f4-45d6-9ff9-06fc0068a1a4"
      },
      "execution_count": null,
      "outputs": [
        {
          "output_type": "stream",
          "name": "stdout",
          "text": [
            "Model Name : models/gemini-1.0-pro-vision-latest\n",
            "Model Name : models/gemini-pro-vision\n",
            "Model Name : models/gemini-1.5-pro-latest\n",
            "Model Name : models/gemini-1.5-pro-001\n",
            "Model Name : models/gemini-1.5-pro-002\n",
            "Model Name : models/gemini-1.5-pro\n",
            "Model Name : models/gemini-1.5-flash-latest\n",
            "Model Name : models/gemini-1.5-flash-001\n",
            "Model Name : models/gemini-1.5-flash-001-tuning\n",
            "Model Name : models/gemini-1.5-flash\n",
            "Model Name : models/gemini-1.5-flash-002\n",
            "Model Name : models/gemini-1.5-flash-8b\n",
            "Model Name : models/gemini-1.5-flash-8b-001\n",
            "Model Name : models/gemini-1.5-flash-8b-latest\n",
            "Model Name : models/gemini-1.5-flash-8b-exp-0827\n",
            "Model Name : models/gemini-1.5-flash-8b-exp-0924\n",
            "Model Name : models/gemini-2.5-pro-exp-03-25\n",
            "Model Name : models/gemini-2.5-pro-preview-03-25\n",
            "Model Name : models/gemini-2.5-flash-preview-04-17\n",
            "Model Name : models/gemini-2.0-flash-exp\n",
            "Model Name : models/gemini-2.0-flash\n",
            "Model Name : models/gemini-2.0-flash-001\n",
            "Model Name : models/gemini-2.0-flash-exp-image-generation\n",
            "Model Name : models/gemini-2.0-flash-lite-001\n",
            "Model Name : models/gemini-2.0-flash-lite\n",
            "Model Name : models/gemini-2.0-flash-lite-preview-02-05\n",
            "Model Name : models/gemini-2.0-flash-lite-preview\n",
            "Model Name : models/gemini-2.0-pro-exp\n",
            "Model Name : models/gemini-2.0-pro-exp-02-05\n",
            "Model Name : models/gemini-exp-1206\n",
            "Model Name : models/gemini-2.0-flash-thinking-exp-01-21\n",
            "Model Name : models/gemini-2.0-flash-thinking-exp\n",
            "Model Name : models/gemini-2.0-flash-thinking-exp-1219\n",
            "Model Name : models/learnlm-1.5-pro-experimental\n",
            "Model Name : models/learnlm-2.0-flash-experimental\n",
            "Model Name : models/gemma-3-1b-it\n",
            "Model Name : models/gemma-3-4b-it\n",
            "Model Name : models/gemma-3-12b-it\n",
            "Model Name : models/gemma-3-27b-it\n"
          ]
        }
      ]
    },
    {
      "cell_type": "code",
      "source": [
        "model = genai.GenerativeModel('gemini-1.5-pro-latest')"
      ],
      "metadata": {
        "id": "Keoey6A4_Pl9"
      },
      "execution_count": null,
      "outputs": []
    },
    {
      "cell_type": "code",
      "source": [
        "from typing import Text\n",
        "\n",
        "response = model.generate_content(input(\"Enter promt:  \"))\n",
        "print(response.text)"
      ],
      "metadata": {
        "colab": {
          "base_uri": "https://localhost:8080/",
          "height": 836
        },
        "id": "OKCriNrF_kwg",
        "outputId": "22e37bec-c1ac-4337-93a6-db6de168eaba"
      },
      "execution_count": null,
      "outputs": [
        {
          "output_type": "stream",
          "name": "stdout",
          "text": [
            "Enter promt:  generate an avatar of boy\n",
            "I can't *generate* an image directly. I'm a text-based AI.  However, I can give you a detailed description that you can use to create an avatar in an avatar builder or art program:\n",
            "\n",
            "**Option 1:  The Energetic Gamer**\n",
            "\n",
            "* **Hair:**  Messy, dark brown, slightly spiked in front.\n",
            "* **Eyes:**  Bright blue, almond-shaped.\n",
            "* **Face:**  Freckled, with a mischievous grin.\n",
            "* **Clothing:**  A graphic tee with a pixelated heart design, dark jeans, and red high-top sneakers.\n",
            "* **Accessories:**  Gaming headphones around his neck.\n",
            "\n",
            "**Option 2: The Thoughtful Bookworm**\n",
            "\n",
            "* **Hair:**  Neatly combed, light brown, parted on the side.\n",
            "* **Eyes:**  Warm hazel, behind round glasses frames.\n",
            "* **Face:**  Soft features, a thoughtful expression.\n",
            "* **Clothing:**  A green sweater vest over a white collared shirt, brown corduroy pants, and brown loafers.\n",
            "* **Accessories:**  A stack of books tucked under his arm.\n",
            "\n",
            "**Option 3:  The Sporty Dude**\n",
            "\n",
            "* **Hair:**  Short, blonde, slightly sun-bleached.\n",
            "* **Eyes:**  Green, squinting slightly.\n",
            "* **Face:**  Tanned, with a confident smirk.\n",
            "* **Clothing:**  A blue and white baseball jersey, gray sweatpants, and white running shoes.\n",
            "* **Accessories:**  A baseball cap worn backward.\n",
            "\n",
            "\n",
            "**Option 4: The Artistic Soul**\n",
            "\n",
            "* **Hair:**  Longish, black, falling over one eye.\n",
            "* **Eyes:**  Dark brown, intense gaze.\n",
            "* **Face:**  Pale, with a hint of a smile.\n",
            "* **Clothing:**  A black turtleneck, ripped jeans, and black Converse sneakers.\n",
            "* **Accessories:**  A paintbrush tucked behind his ear.\n",
            "\n",
            "\n",
            "To generate an actual image, try one of these:\n",
            "\n",
            "* **Online Avatar Creators:** Sites like Picrew, Avataaars Generator, and Ready Player Me offer easy customization options.\n",
            "* **Art Programs:** If you're artistically inclined, software like Photoshop, Krita, or Procreate will allow you to create a unique avatar.\n",
            "* **AI Art Generators:**  Services like Midjourney, DALL-E 2, or Stable Diffusion can generate images from text prompts. Try prompts like \"avatar of a young boy, [description from above]\" to get started.\n",
            "\n",
            "\n",
            "Choose the option you like best, or mix and match features to create your own unique boy avatar!\n",
            "\n"
          ]
        }
      ]
    }
  ]
}